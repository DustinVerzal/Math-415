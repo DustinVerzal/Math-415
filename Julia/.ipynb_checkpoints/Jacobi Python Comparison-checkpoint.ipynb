{
 "cells": [
  {
   "cell_type": "code",
   "execution_count": 1,
   "metadata": {
    "collapsed": true
   },
   "outputs": [],
   "source": [
    "%load_ext Cython"
   ]
  },
  {
   "cell_type": "code",
   "execution_count": 2,
   "metadata": {
    "collapsed": true
   },
   "outputs": [],
   "source": [
    "import numpy as np\n",
    "import timeit"
   ]
  },
  {
   "cell_type": "code",
   "execution_count": 3,
   "metadata": {
    "collapsed": true
   },
   "outputs": [],
   "source": [
    "def jacobi(A, b, P, tol=1.0e-3, max_iter=1000):\n",
    "\n",
    "    if P is None:\n",
    "        P = np.zeros(len(A[0]))\n",
    "        \n",
    "    N = len(b) \n",
    "    x = np.zeros(len(A[0]))\n",
    "    \n",
    "    for k in range(0, max_iter):\n",
    "        for i in range(0, N):\n",
    "            val = 0\n",
    "            for j in range(0, i):                \n",
    "                val += - (A[i, j]*P[j])\n",
    "            for j in range(i+1, N):\n",
    "                val += - (A[i, j]*P[j])\n",
    "                    \n",
    "            x[i] = (val + b[i])/A[i, i]\n",
    "            \n",
    "        err = np.abs(np.linalg.norm(x - P)) / np.abs((np.linalg.norm(x) + np.finfo(np.float).eps))\n",
    "        P = x.copy()\n",
    "        \n",
    "        if(err < tol):\n",
    "            return x\n",
    "    return x"
   ]
  },
  {
   "cell_type": "code",
   "execution_count": 4,
   "metadata": {
    "collapsed": true
   },
   "outputs": [],
   "source": [
    "%%cython\n",
    "cimport numpy as np\n",
    "cimport cython\n",
    "import numpy as np\n",
    "\n",
    "@cython.boundscheck(False) # turn of bounds-checking for entire function\n",
    "\n",
    "def jacobi_cython(np.ndarray[double, ndim=2] A, np.ndarray[double, ndim=1] b, np.ndarray[double, ndim=1]  P, double tol=1.0e-3, int max_iter=1000):\n",
    "\n",
    "    cdef int N = len(b)\n",
    "    cdef np.ndarray x = np.zeros(len(A[0]))\n",
    "    cdef unsigned int k, i, j\n",
    "    cdef double val, err, relerr\n",
    "    \n",
    "    if P is None:\n",
    "        P = np.zeros(len(A[0]))\n",
    "    \n",
    "    for k in range(0, max_iter):\n",
    "        for i in range(0, N):\n",
    "            val = 0\n",
    "            for j in range(0, i):                \n",
    "                val += - (A[i, j]*P[j])\n",
    "            for j in range(i+1, N):\n",
    "                val += - (A[i, j]*P[j])\n",
    "                    \n",
    "            x[i] = (val + b[i])/A[i, i]\n",
    "            \n",
    "        err = np.abs(np.linalg.norm(x - P)) /  np.abs((np.linalg.norm(x) + np.finfo(np.float).eps))\n",
    "        P = x.copy()\n",
    "        \n",
    "        if(err < tol):\n",
    "            return x\n",
    "    return x"
   ]
  },
  {
   "cell_type": "code",
   "execution_count": 5,
   "metadata": {
    "collapsed": false
   },
   "outputs": [],
   "source": [
    "A = np.array([[10.0, -1.0, 2.0, 0.0], [-1.0, 11.0, -1.0, 3.0], [2.0, -1.0, 10.0, -1.0], [0.0, 3.0, -1.0, 8.0]])\n",
    "b = np.array([6.0, 25.0, -11.0, 15.0])\n",
    "P = np.array([0.0, 0.0, 0.0, 0.0])\n",
    "max_iter = 10\n",
    "tol = .001"
   ]
  },
  {
   "cell_type": "code",
   "execution_count": 8,
   "metadata": {
    "collapsed": false
   },
   "outputs": [
    {
     "name": "stdout",
     "output_type": "stream",
     "text": [
      "1000 loops, best of 3: 388 µs per loop\n"
     ]
    }
   ],
   "source": [
    "%timeit x = jacobi(A, b, P, tol, max_iter)"
   ]
  },
  {
   "cell_type": "code",
   "execution_count": 7,
   "metadata": {
    "collapsed": false
   },
   "outputs": [
    {
     "name": "stdout",
     "output_type": "stream",
     "text": [
      "1000 loops, best of 3: 202 µs per loop\n"
     ]
    }
   ],
   "source": [
    "%timeit x = jacobi_cython(A, b, P, tol, max_iter)"
   ]
  },
  {
   "cell_type": "code",
   "execution_count": null,
   "metadata": {
    "collapsed": true
   },
   "outputs": [],
   "source": []
  }
 ],
 "metadata": {
  "kernelspec": {
   "display_name": "Python 2",
   "language": "python",
   "name": "python2"
  },
  "language_info": {
   "codemirror_mode": {
    "name": "ipython",
    "version": 2
   },
   "file_extension": ".py",
   "mimetype": "text/x-python",
   "name": "python",
   "nbconvert_exporter": "python",
   "pygments_lexer": "ipython2",
   "version": "2.7.10"
  }
 },
 "nbformat": 4,
 "nbformat_minor": 0
}
