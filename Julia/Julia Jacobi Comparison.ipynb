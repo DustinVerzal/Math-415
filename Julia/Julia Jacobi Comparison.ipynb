{
 "cells": [
  {
   "cell_type": "code",
   "execution_count": 1,
   "metadata": {
    "collapsed": false
   },
   "outputs": [
    {
     "data": {
      "text/plain": [
       "jacobi (generic function with 1 method)"
      ]
     },
     "execution_count": 1,
     "metadata": {},
     "output_type": "execute_result"
    }
   ],
   "source": [
    "function jacobi(A, b, P, tol, max_iter)\n",
    "    \n",
    "    if P == nothing    \n",
    "        P = zeros(length(A))\n",
    "    end\n",
    "    \n",
    "    N = length(b)\n",
    "    x = [0.0 0.0 0.0 0.0] \n",
    "\n",
    "    for k = 1:max_iter\n",
    "        for i = 1:N\n",
    "            val = 0\n",
    "\n",
    "            for j = 1:i-1\n",
    "                val = val - (A[i, j]*P[j])\n",
    "            end\n",
    "\n",
    "            for j = i+1:N\n",
    "                val = val - (A[i, j]*P[j])\n",
    "            end\n",
    "\n",
    "            x[i] = (val + b[i])/A[i, i]\n",
    "\n",
    "        end\n",
    "        \n",
    "        err = abs(norm(x-P) / (norm(x) + eps()))\n",
    "        P = copy(x)\n",
    "\n",
    "        if(err < tol)\n",
    "            return x\n",
    "        end\n",
    "    end\n",
    "        \n",
    "end"
   ]
  },
  {
   "cell_type": "code",
   "execution_count": 2,
   "metadata": {
    "collapsed": false
   },
   "outputs": [
    {
     "data": {
      "text/plain": [
       "0.001"
      ]
     },
     "execution_count": 2,
     "metadata": {},
     "output_type": "execute_result"
    }
   ],
   "source": [
    "A = [10.0 -1.0 2.0 0.0; -1.0 11.0 -1.0 3.0; 2.0 -1.0 10.0 -1.0; 0.0 3.0 -1.0 8.0]\n",
    "b = [6.0 25.0 -11.0 15.0]\n",
    "P = [0.0 0.0 0.0 0.0]\n",
    "max_iter = 10\n",
    "tol = .001"
   ]
  },
  {
   "cell_type": "code",
   "execution_count": 4,
   "metadata": {
    "collapsed": false
   },
   "outputs": [
    {
     "name": "stdout",
     "output_type": "stream",
     "text": [
      " "
     ]
    },
    {
     "data": {
      "text/plain": [
       "1x4 Array{Float64,2}:\n",
       " 1.00012  1.99977  -0.999828  0.999786"
      ]
     },
     "execution_count": 4,
     "metadata": {},
     "output_type": "execute_result"
    },
    {
     "name": "stdout",
     "output_type": "stream",
     "text": [
      " 0.000024 seconds (475 allocations: 9.313 KB)\n"
     ]
    }
   ],
   "source": [
    "@time x = jacobi(A, b, P, tol, max_iter)"
   ]
  },
  {
   "cell_type": "code",
   "execution_count": null,
   "metadata": {
    "collapsed": false
   },
   "outputs": [
    {
     "name": "stderr",
     "output_type": "stream",
     "text": [
      "INFO: Precompiling module Gadfly...\n"
     ]
    }
   ],
   "source": [
    "using Gadfly"
   ]
  },
  {
   "cell_type": "code",
   "execution_count": null,
   "metadata": {
    "collapsed": true
   },
   "outputs": [],
   "source": [
    "set_default_plot_size(30cm, 18cm)\n",
    "plot(results, y=)"
   ]
  }
 ],
 "metadata": {
  "kernelspec": {
   "display_name": "Julia 0.4.5",
   "language": "julia",
   "name": "julia-0.4"
  },
  "language_info": {
   "file_extension": ".jl",
   "mimetype": "application/julia",
   "name": "julia",
   "version": "0.4.5"
  }
 },
 "nbformat": 4,
 "nbformat_minor": 0
}
