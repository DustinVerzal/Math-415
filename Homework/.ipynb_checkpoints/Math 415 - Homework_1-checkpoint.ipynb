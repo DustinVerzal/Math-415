{
 "cells": [
  {
   "cell_type": "code",
   "execution_count": 1,
   "metadata": {
    "collapsed": false
   },
   "outputs": [],
   "source": [
    "import numpy as np\n",
    "from numpy.random import uniform, seed\n",
    "from matplotlib import pyplot as plt\n",
    "from matplotlib.mlab import griddata\n",
    "\n",
    "from scipy.optimize import fsolve, minimize\n",
    "import sympy"
   ]
  },
  {
   "cell_type": "code",
   "execution_count": 2,
   "metadata": {
    "collapsed": false
   },
   "outputs": [],
   "source": [
    "def equations(p):\n",
    "    x, y = p\n",
    "    return np.array([x**2 + y**2 - 25, x**2 - y - 2])"
   ]
  },
  {
   "cell_type": "code",
   "execution_count": 3,
   "metadata": {
    "collapsed": false
   },
   "outputs": [
    {
     "ename": "NameError",
     "evalue": "name 'f' is not defined",
     "output_type": "error",
     "traceback": [
      "\u001b[1;31m---------------------------------------------------------------------------\u001b[0m",
      "\u001b[1;31mNameError\u001b[0m                                 Traceback (most recent call last)",
      "\u001b[1;32m<ipython-input-3-a489d3bc6df4>\u001b[0m in \u001b[0;36m<module>\u001b[1;34m()\u001b[0m\n\u001b[0;32m      1\u001b[0m \u001b[1;31m#fsolve\u001b[0m\u001b[1;33m\u001b[0m\u001b[1;33m\u001b[0m\u001b[0m\n\u001b[1;32m----> 2\u001b[1;33m \u001b[0mx\u001b[0m\u001b[1;33m,\u001b[0m \u001b[0my\u001b[0m \u001b[1;33m=\u001b[0m \u001b[0mfsolve\u001b[0m\u001b[1;33m(\u001b[0m\u001b[0mf\u001b[0m\u001b[1;33m,\u001b[0m \u001b[1;33m(\u001b[0m\u001b[1;36m1\u001b[0m\u001b[1;33m,\u001b[0m \u001b[1;36m1\u001b[0m\u001b[1;33m)\u001b[0m\u001b[1;33m)\u001b[0m\u001b[1;33m\u001b[0m\u001b[0m\n\u001b[0m\u001b[0;32m      3\u001b[0m \u001b[1;33m\u001b[0m\u001b[0m\n\u001b[0;32m      4\u001b[0m \u001b[1;32mprint\u001b[0m \u001b[0mx\u001b[0m\u001b[1;33m,\u001b[0m \u001b[0my\u001b[0m\u001b[1;33m\u001b[0m\u001b[0m\n\u001b[0;32m      5\u001b[0m \u001b[1;32mprint\u001b[0m \u001b[0mf\u001b[0m\u001b[1;33m(\u001b[0m\u001b[1;33m(\u001b[0m\u001b[0mx\u001b[0m\u001b[1;33m,\u001b[0m \u001b[0my\u001b[0m\u001b[1;33m)\u001b[0m\u001b[1;33m)\u001b[0m\u001b[1;33m\u001b[0m\u001b[0m\n",
      "\u001b[1;31mNameError\u001b[0m: name 'f' is not defined"
     ]
    }
   ],
   "source": [
    "#fsolve\n",
    "x, y = fsolve(f, (1, 1))\n",
    "\n",
    "print x, y\n",
    "print f((x, y))\n"
   ]
  },
  {
   "cell_type": "code",
   "execution_count": 4,
   "metadata": {
    "collapsed": false
   },
   "outputs": [
    {
     "name": "stdout",
     "output_type": "stream",
     "text": [
      "2.51432404047278\n",
      "4.32182538049648\n",
      "[2.91322521661641e-12 2.91322521661641e-12]\n"
     ]
    }
   ],
   "source": [
    "#Newton's method\n",
    "x, y = sympy.symbols(\"x, y\")\n",
    "F = sympy.Matrix([x**2 + y**2 - 25, x**2 - y -2])\n",
    "J = F.jacobian([x, y])\n",
    "\n",
    "tol = 1e-8\n",
    "max_iter = 1000\n",
    "x_val = 1\n",
    "y_val = 1\n",
    "p = [(x, x_val), (y, y_val)]\n",
    "diff = 1\n",
    "\n",
    "for i in range(0, max_iter):\n",
    "    values = -J.subs(p).inv()*F.subs(p)\n",
    "    x_val = x_val + values[0]\n",
    "    y_val = y_val + values[1]\n",
    "    p = [(x, x_val), (y, y_val)]\n",
    "    if F.subs(p)[0] * 1.0 <= tol and F.subs(p)[1] * 1.0 <= tol:\n",
    "        print x_val * 1.0\n",
    "        print y_val * 1.0\n",
    "        print equations((x_val*1.0, y_val*1.0))\n",
    "        break\n",
    "    "
   ]
  },
  {
   "cell_type": "code",
   "execution_count": 9,
   "metadata": {
    "collapsed": false
   },
   "outputs": [],
   "source": [
    "#Newton Secant\n",
    "a, b = sympy.symbols(\"a, b\")\n",
    "F = sympy.Matrix([a**2 + b**2 - 25, a**2 - b -2])\n",
    "S = sympy.Matrix.eye(2)\n",
    "\n",
    "tol = .0001\n",
    "max_iter = 1000\n",
    "x0 = sympy.Matrix([1, 1])\n",
    "p = [(a, x0[0]), (b, x0[1])]\n",
    "y0 = F.subs(p)\n",
    "diff = 1\n",
    "\n",
    "for i in range(0, max_iter):\n",
    "    d = -S/y0\n",
    "    x = x0 + d\n",
    "    y = F.subs(x)\n",
    "    #S = S + ((y-y0) - S*d)*d.transpose()/(d.transpose()*d)\n",
    "    #tmp = np.sqrt((x-x0).tranpose()*(x-x0))\n",
    "    break\n",
    "    \n",
    "    \n",
    "    if F.subs(p)[0] * 1.0 <= tol and F.subs(p)[1] * 1.0 <= tol:\n",
    "        print x_val * 1.0\n",
    "        print y_val * 1.0\n",
    "        print equations((x_val*1.0, y_val*1.0))\n",
    "        break\n"
   ]
  },
  {
   "cell_type": "code",
   "execution_count": null,
   "metadata": {
    "collapsed": false
   },
   "outputs": [],
   "source": [
    "((y-y0) - S*d)*d.transpose()"
   ]
  },
  {
   "cell_type": "code",
   "execution_count": 12,
   "metadata": {
    "collapsed": false
   },
   "outputs": [
    {
     "data": {
      "text/plain": [
       "Matrix([\n",
       "[1],\n",
       "[1]]) + Matrix([\n",
       "[-23],\n",
       "[ -2]])**(-1)"
      ]
     },
     "execution_count": 12,
     "metadata": {},
     "output_type": "execute_result"
    }
   ],
   "source": [
    "(x0 + S/y0)"
   ]
  },
  {
   "cell_type": "code",
   "execution_count": 14,
   "metadata": {
    "collapsed": false
   },
   "outputs": [
    {
     "data": {
      "text/plain": [
       "Matrix([\n",
       "[a**2 + b**2 - 25],\n",
       "[    a**2 - b - 2]])"
      ]
     },
     "execution_count": 14,
     "metadata": {},
     "output_type": "execute_result"
    }
   ],
   "source": []
  },
  {
   "cell_type": "code",
   "execution_count": null,
   "metadata": {
    "collapsed": true
   },
   "outputs": [],
   "source": []
  }
 ],
 "metadata": {
  "kernelspec": {
   "display_name": "Python 2",
   "language": "python",
   "name": "python2"
  },
  "language_info": {
   "codemirror_mode": {
    "name": "ipython",
    "version": 2
   },
   "file_extension": ".py",
   "mimetype": "text/x-python",
   "name": "python",
   "nbconvert_exporter": "python",
   "pygments_lexer": "ipython2",
   "version": "2.7.10"
  }
 },
 "nbformat": 4,
 "nbformat_minor": 0
}
