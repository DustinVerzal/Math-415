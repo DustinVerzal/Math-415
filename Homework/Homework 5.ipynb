{
 "cells": [
  {
   "cell_type": "code",
   "execution_count": 1,
   "metadata": {
    "collapsed": false
   },
   "outputs": [],
   "source": [
    "%load_ext Cython"
   ]
  },
  {
   "cell_type": "code",
   "execution_count": 2,
   "metadata": {
    "collapsed": false
   },
   "outputs": [],
   "source": [
    "import numpy as np\n",
    "from pprint import pprint\n",
    "from numpy import array, zeros, diag, diagflat, dot\n",
    "import timeit\n",
    "from matplotlib import pyplot as plt\n",
    "from scipy.sparse import diags\n",
    "from matplotlib import pyplot as plt"
   ]
  },
  {
   "cell_type": "code",
   "execution_count": 3,
   "metadata": {
    "collapsed": false
   },
   "outputs": [],
   "source": [
    "import psutil, os\n",
    "p = psutil.Process(os.getpid())\n",
    "p.nice(psutil.HIGH_PRIORITY_CLASS)"
   ]
  },
  {
   "cell_type": "code",
   "execution_count": 4,
   "metadata": {
    "collapsed": false
   },
   "outputs": [],
   "source": [
    "def symmetric_array_n(n):\n",
    "    main_diag = np.linspace(2, 2, num=n, dtype=np.int8)\n",
    "    lowUp_diag = np.linspace(-1, -1, num = n-1, dtype=np.int8)\n",
    "    diagonals = [main_diag, lowUp_diag, lowUp_diag]\n",
    "    A = diags(diagonals, [0, -1, 1]).toarray()\n",
    "    return A"
   ]
  },
  {
   "cell_type": "markdown",
   "metadata": {},
   "source": [
    "### Jacobi\n",
    "\n",
    "$$x_i^{(k)} = \\frac{-\\sum_{j=1_{j\\ne i}}^{n}(a_{ij}x_j^{(k-1)}) +b_i}{a_{ii}} $$\n",
    "\n"
   ]
  },
  {
   "cell_type": "code",
   "execution_count": 5,
   "metadata": {
    "collapsed": false
   },
   "outputs": [],
   "source": [
    "def jacobi(A, b, P, tol=1.0e-3, max_iter=1000):\n",
    "\n",
    "    if P is None:\n",
    "        P = np.zeros(len(A[0]))\n",
    "        \n",
    "    N = len(b) \n",
    "    x = np.zeros(len(A[0]))\n",
    "    \n",
    "    for k in range(0, max_iter):\n",
    "        for i in range(0, N):\n",
    "            val = 0\n",
    "            for j in range(0, i):                \n",
    "                val += - (A[i, j]*P[j])\n",
    "            for j in range(i+1, N):\n",
    "                val += - (A[i, j]*P[j])\n",
    "                    \n",
    "            x[i] = (val + b[i])/A[i, i]\n",
    "            \n",
    "        err = np.abs(np.linalg.norm(x - P)) / np.abs((np.linalg.norm(x) + np.finfo(np.float).eps))\n",
    "        P = x.copy()\n",
    "        \n",
    "        if(err < tol):\n",
    "            return x\n",
    "    return x"
   ]
  },
  {
   "cell_type": "code",
   "execution_count": 6,
   "metadata": {
    "collapsed": false
   },
   "outputs": [],
   "source": [
    "%%cython\n",
    "cimport numpy as np\n",
    "cimport cython\n",
    "import numpy as np\n",
    "\n",
    "@cython.boundscheck(False) # turn of bounds-checking for entire function\n",
    "\n",
    "def jacobi_cython(np.ndarray[double, ndim=2] A, np.ndarray[double, ndim=1] b, np.ndarray[double, ndim=1]  P, double tol=1.0e-3, int max_iter=1000):\n",
    "\n",
    "    cdef int N = len(b)\n",
    "    cdef np.ndarray x = np.zeros(len(A[0]))\n",
    "    cdef unsigned int k, i, j\n",
    "    cdef double val, err, relerr\n",
    "    \n",
    "    if P is None:\n",
    "        P = np.zeros(len(A[0]))\n",
    "    \n",
    "    for k in range(0, max_iter):\n",
    "        for i in range(0, N):\n",
    "            val = 0\n",
    "            for j in range(0, i):                \n",
    "                val += - (A[i, j]*P[j])\n",
    "            for j in range(i+1, N):\n",
    "                val += - (A[i, j]*P[j])\n",
    "                    \n",
    "            x[i] = (val + b[i])/A[i, i]\n",
    "            \n",
    "        err = np.abs(np.linalg.norm(x - P)) /  np.abs((np.linalg.norm(x) + np.finfo(np.float).eps))\n",
    "        P = x.copy()\n",
    "        \n",
    "        if(err < tol):\n",
    "            return x\n",
    "    return x"
   ]
  },
  {
   "cell_type": "markdown",
   "metadata": {},
   "source": [
    "### Gauss-Seidel\n",
    "\n",
    "$$x_i^{(k)} = \\frac{-\\sum_{j=1}^{i-1}(a_{ij}x_j^{(k)}) - \\sum_{j=i+1}^{n}(a_{ij}x_j^{(k-1)}) +b_i}{a_{ii}}$$\n",
    "\n"
   ]
  },
  {
   "cell_type": "code",
   "execution_count": 7,
   "metadata": {
    "collapsed": false
   },
   "outputs": [],
   "source": [
    "def gauss_seidel(A, b, P, tol=1.0e-3, max_iter=1000):\n",
    "    if P is None:\n",
    "        P = np.zeros(len(A[0]))\n",
    "    \n",
    "    N = len(b)\n",
    "    x = np.zeros(len(A[0]))\n",
    "    \n",
    "    for k in range(0, max_iter):\n",
    "        for i in range(0, N):\n",
    "            val = 0\n",
    "            for j in range(0, i):\n",
    "                val += - (A[i, j]*x[j])\n",
    "            for j in range(i+1, N):\n",
    "                val += - (A[i, j]*P[j])\n",
    "                    \n",
    "            x[i] = (val + b[i])/A[i, i]\n",
    "                \n",
    "        err = np.abs(np.linalg.norm(x - P))/ np.abs((np.linalg.norm(x) + np.finfo(np.float).eps))\n",
    "        P = x.copy()\n",
    "        \n",
    "        if(err < tol):\n",
    "            return x\n",
    "    return x"
   ]
  },
  {
   "cell_type": "code",
   "execution_count": 8,
   "metadata": {
    "collapsed": false
   },
   "outputs": [],
   "source": [
    "%%cython\n",
    "cimport numpy as np\n",
    "cimport cython\n",
    "import numpy as np\n",
    "\n",
    "@cython.boundscheck(False) # turn of bounds-checking for entire function\n",
    "def gauss_seidel_cython(np.ndarray[double, ndim=2] A, np.ndarray[double, ndim=1] b, np.ndarray[double, ndim=1] P, double tol=1.0e-3, int max_iter=1000):\n",
    "\n",
    "    cdef int N = len(b)\n",
    "    cdef np.ndarray x = np.zeros(len(A[0]), dtype=np.float64)\n",
    "    cdef unsigned int k, i, j\n",
    "    cdef double val, err, relerr\n",
    "    \n",
    "    if P is None:\n",
    "        P = np.zeros(len(A[0]))\n",
    "    \n",
    "    for k in range(0, max_iter):\n",
    "        for i in range(0, N):\n",
    "            val = 0                          \n",
    "            for j in range(0, i):\n",
    "                val += - (A[i, j]*x[j])\n",
    "            for j in range(i+1, N):\n",
    "                val += - (A[i, j]*P[j])\n",
    "                \n",
    "            x[i] = (val + b[i])/A[i, i]\n",
    "                \n",
    "        err = np.abs(np.linalg.norm(x - P))/ np.abs((np.linalg.norm(x) + np.finfo(np.float).eps))\n",
    "        P = x.copy()\n",
    "        \n",
    "        if(err < tol):\n",
    "            return x\n",
    "    return x"
   ]
  },
  {
   "cell_type": "markdown",
   "metadata": {},
   "source": [
    "### SOR\n",
    "\n",
    "$$x_i^{(k)} = (1-\\omega)x_i^{(k-1)} + \\frac{\\omega}{a_{ii}}[b_i - \\sum_{j=1}^{i-1}a_{ij}x_j^{(k)} - \\sum_{j+i+1}^n a_{ij}x_j^{(k-1)}] $$\n",
    "\n"
   ]
  },
  {
   "cell_type": "code",
   "execution_count": 9,
   "metadata": {
    "collapsed": true
   },
   "outputs": [],
   "source": [
    "def SOR(A, b, P, w, tol=1.0e-3, max_iter=1000):\n",
    "\n",
    "    if P is None:\n",
    "        P = np.zeros(len(A[0]))\n",
    "        \n",
    "    if w is None:\n",
    "        w = 1.0\n",
    "    \n",
    "    N = len(b)\n",
    "    x = np.zeros(len(A[0]))\n",
    "    \n",
    "    for k in range(0, max_iter):\n",
    "        for i in range(0, N):\n",
    "            val = 0\n",
    "            for j in range(0, N):                \n",
    "                if j < i:\n",
    "                    val += - (A[i, j]*x[j])\n",
    "                if j > i:\n",
    "                    val += - (A[i, j]*P[j])\n",
    "            x[i] = (1-w)*P[i] + w*(val + b[i])/A[i, i]\n",
    "                \n",
    "        err = np.abs(np.linalg.norm(x - P)) / np.abs((np.linalg.norm(x) + np.finfo(np.float).eps))\n",
    "        P = x.copy()\n",
    "        \n",
    "        if(err < tol):\n",
    "            return x\n",
    "    return x"
   ]
  },
  {
   "cell_type": "code",
   "execution_count": 10,
   "metadata": {
    "collapsed": false
   },
   "outputs": [],
   "source": [
    "%%cython\n",
    "\n",
    "cimport numpy as np\n",
    "cimport cython\n",
    "import numpy as np\n",
    "\n",
    "@cython.boundscheck(False) # turn of bounds-checking for entire functio\n",
    "\n",
    "def SOR_cython(np.ndarray[double, ndim=2] A, np.ndarray[double, ndim=1] b, np.ndarray[double, ndim=1] P, double w, double tol=1.0e-3, int max_iter=1000):\n",
    "    \n",
    "    if P is None:\n",
    "        P = np.zeros(len(A[0]), dtype=np.float64)\n",
    "        \n",
    "    if w is None:\n",
    "        w = 1.0\n",
    "    \n",
    "    cdef int N = len(b)\n",
    "    cdef np.ndarray x = np.zeros(len(A[0]), dtype=np.float64)\n",
    "    cdef unsigned int k, i, j\n",
    "    cdef double val, err\n",
    "    \n",
    "    for k in range(0, max_iter):\n",
    "        for i in range(0, N):\n",
    "            val = 0\n",
    "            for j in range(0, N):                \n",
    "                if j < i:\n",
    "                    val += - (A[i, j]*x[j])\n",
    "                if j > i:\n",
    "                    val += - (A[i, j]*P[j])\n",
    "                    \n",
    "            x[i] = (1-w)*P[i] + w*(val + b[i])/A[i, i]\n",
    "                \n",
    "        err = np.abs(np.linalg.norm(x - P)) / np.abs((np.linalg.norm(x) + np.finfo(np.float).eps)) \n",
    "        P = x.copy()\n",
    "        \n",
    "        if(err < tol):\n",
    "            return x\n",
    "    return x"
   ]
  },
  {
   "cell_type": "code",
   "execution_count": 13,
   "metadata": {
    "collapsed": true
   },
   "outputs": [],
   "source": [
    "def conjugate_gradient(A, b, x=None, max_iter=1000, tol=1.0e-3):\n",
    "    timer = time.time()\n",
    "    \n",
    "    if x is None:\n",
    "        x = np.matrix(np.zeros(len(A[0]))).transpose()\n",
    "        \n",
    "    r0 = b - np.dot(A, x)\n",
    "    p = r0\n",
    "\n",
    "#   Start iterations    \n",
    "    for i in xrange(max_iter):\n",
    "        a = float(np.dot(r0.T, r0)/np.dot(np.dot(p.T, A), p))\n",
    "        x = x + p*a\n",
    "        ri = r0 - np.dot(A*a, p)\n",
    "\n",
    "        if np.linalg.norm(ri) < tol:\n",
    "            timer = time.time() - timer\n",
    "            return x, timer\n",
    "        b = float(np.dot(ri.T, ri)/np.dot(r0.T, r0))\n",
    "        p = ri + b * p\n",
    "        r0 = ri\n",
    "    timer = time.time() - timer\n",
    "    return x, timer"
   ]
  },
  {
   "cell_type": "code",
   "execution_count": 21,
   "metadata": {
    "collapsed": false
   },
   "outputs": [],
   "source": [
    "def test_algorithms(A, b, P, w, max_iter=1000, graph=True):\n",
    "\n",
    "    print\"Jacobi\"\n",
    "    jac = %timeit -o jacobi(A, b, None)\n",
    "    print\"Jacobi Cython\"\n",
    "    jac_cy = %timeit -o jacobi_cython(A, b, None)\n",
    "    print \n",
    "\n",
    "\n",
    "    print\"Gauss-Seidel\"\n",
    "    gau_sei = %timeit -o gauss_seidel(A, b, None)\n",
    "    print\"Gauss-Seidel Cython\"\n",
    "    gau_sei_cy = %timeit -o gauss_seidel_cython(A, b, None)\n",
    "    print \n",
    "\n",
    "    print\"SOR\"\n",
    "    sor = %timeit -o SOR(A, b, None, 1.25)\n",
    "    print\"SOR Cython\"\n",
    "    sor_cy = %timeit -o SOR_cython(A, b, None, 1.25)\n",
    "\n",
    "    if graph:\n",
    "        python = [jac.worst, gau_sei.worst, sor.worst]\n",
    "        cython = [jac_cy.worst, gau_sei_cy.worst, sor_cy.worst]\n",
    "\n",
    "        ind = np.arange(3)  # the x locations for the groups\n",
    "        width = 0.35       # the width of the bars\n",
    "\n",
    "        fig, ax = plt.subplots()\n",
    "        rects1 = ax.bar(ind, python, width, color='r')\n",
    "\n",
    "        rects2 = ax.bar(ind + width, cython, width, color='b')\n",
    "\n",
    "        # add some text for labels, title and axes ticks\n",
    "        ax.set_ylabel('Runtime (s)')\n",
    "        ax.set_title('Python vs Cython')\n",
    "        ax.set_xticks(ind + width)\n",
    "        ax.set_xticklabels(('Jacobi', 'Gauss-Seidel', 'SOR'))\n",
    "\n",
    "        ax.legend((rects1[0], rects2[0]), ('Python', 'Cython'))\n",
    "\n",
    "        plt.grid()\n",
    "        plt.show()\n",
    "    return"
   ]
  },
  {
   "cell_type": "code",
   "execution_count": 15,
   "metadata": {
    "collapsed": false
   },
   "outputs": [],
   "source": [
    "A = symmetric_array_n(10)\n",
    "b = np.array([1.0, 2.0, 3.0, 4.0, 5.0, 6.0, 7.0, 8.0, 9.0, 10.0])"
   ]
  },
  {
   "cell_type": "code",
   "execution_count": 16,
   "metadata": {
    "collapsed": true
   },
   "outputs": [],
   "source": [
    "#Two Point Boundary Value Problem\n",
    "def f(x):\n",
    "    return -24.0*x**2"
   ]
  },
  {
   "cell_type": "code",
   "execution_count": 22,
   "metadata": {
    "collapsed": false
   },
   "outputs": [
    {
     "name": "stdout",
     "output_type": "stream",
     "text": [
      "Jacobi\n",
      "100 loops, best of 3: 7.06 ms per loop\n",
      "Jacobi Cython\n",
      "1000 loops, best of 3: 1.66 ms per loop\n",
      "\n",
      "Gauss-Seidel\n",
      "100 loops, best of 3: 4.25 ms per loop\n",
      "Gauss-Seidel Cython\n",
      "1000 loops, best of 3: 1.75 ms per loop\n",
      "\n",
      "SOR\n",
      "100 loops, best of 3: 3.03 ms per loop\n",
      "SOR Cython\n",
      "1000 loops, best of 3: 1.19 ms per loop\n"
     ]
    },
    {
     "data": {
      "image/png": "[encoded data removed]",
      "text/plain": [
       "<matplotlib.figure.Figure at 0x7356890>"
      ]
     },
     "metadata": {},
     "output_type": "display_data"
    }
   ],
   "source": [
    "%matplotlib inline\n",
    "\n",
    "n = 9\n",
    "A = symmetric_array_n(n)\n",
    "x = np.arange(1.0/(n+1), 1, 1.0/(n+1))\n",
    "b = np.array(f(x)*(-1.0/n+1)**2)\n",
    "b[0] = b[0] + 1\n",
    "b = b.transpose()\n",
    "\n",
    "test_algorithms(A, b, None, 1.25, graph=True)"
   ]
  },
  {
   "cell_type": "code",
   "execution_count": 23,
   "metadata": {
    "collapsed": false
   },
   "outputs": [
    {
     "name": "stdout",
     "output_type": "stream",
     "text": [
      "Jacobi\n",
      "1 loops, best of 3: 4.34 s per loop\n",
      "Jacobi Cython\n",
      "10 loops, best of 3: 29.2 ms per loop\n",
      "\n",
      "Gauss-Seidel\n",
      "1 loops, best of 3: 3.81 s per loop\n",
      "Gauss-Seidel Cython\n",
      "1 loops, best of 3: 1.23 s per loop\n",
      "\n",
      "SOR\n",
      "1 loops, best of 3: 3.59 s per loop\n",
      "SOR Cython\n",
      "1 loops, best of 3: 1.07 s per loop\n"
     ]
    },
    {
     "data": {
      "image/png": "[encoded data removed]",
      "text/plain": [
       "<matplotlib.figure.Figure at 0x7b4f190>"
      ]
     },
     "metadata": {},
     "output_type": "display_data"
    }
   ],
   "source": [
    "%matplotlib inline\n",
    "\n",
    "n = 99\n",
    "A = symmetric_array_n(n)\n",
    "x = np.arange(1.0/(n+1), 1, 1.0/(n+1))\n",
    "b = np.array(f(x)*(-1.0/n+1)**2)\n",
    "b[0] = b[0] + 1\n",
    "b = b.transpose()\n",
    "\n",
    "test_algorithms(A, b, None, 1.25, graph=True)"
   ]
  },
  {
   "cell_type": "code",
   "execution_count": 29,
   "metadata": {
    "collapsed": false
   },
   "outputs": [],
   "source": [
    "%matplotlib inline\n",
    "\n",
    "n = 9\n",
    "A = symmetric_array_n(n)\n",
    "x = np.arange(1.0/(n+1), 1, 1.0/(n+1))\n",
    "b = np.array(f(x)*(-1.0/n+1)**2)\n",
    "b[0] = b[0] + 1\n",
    "b = b.transpose()"
   ]
  },
  {
   "cell_type": "code",
   "execution_count": 34,
   "metadata": {
    "collapsed": false
   },
   "outputs": [
    {
     "name": "stdout",
     "output_type": "stream",
     "text": [
      "[-14.32426667 -29.49868714 -43.99551538 -56.88983148 -66.88101533\n",
      " -72.26020085 -70.94366196 -60.43942627 -37.87982126]\n",
      "[-14.32426667 -29.49868714 -43.99551538 -56.88983148 -66.88101533\n",
      " -72.26020085 -70.94366196 -60.43942627 -37.87982126]\n"
     ]
    }
   ],
   "source": [
    "#Jacobi Solution Check\n",
    "\n",
    "sol_1 = jacobi(A, b, None)\n",
    "sol_2 = jacobi_cython(A, b, None)\n",
    "\n",
    "print sol_1\n",
    "print sol_2"
   ]
  },
  {
   "cell_type": "code",
   "execution_count": 35,
   "metadata": {
    "collapsed": false
   },
   "outputs": [
    {
     "name": "stdout",
     "output_type": "stream",
     "text": [
      "[-14.50040561 -29.85778882 -44.51766321 -57.53908186 -67.59463738\n",
      " -72.97114955 -71.5709093  -60.9133071  -38.13665355]\n",
      "[-14.50040561 -29.85778882 -44.51766321 -57.53908186 -67.59463738\n",
      " -72.97114955 -71.5709093  -60.9133071  -38.13665355]\n"
     ]
    }
   ],
   "source": [
    "#Gauss-Seidel Solution Check\n",
    "sol_1 = gauss_seidel(A, b, None)\n",
    "sol_2 = gauss_seidel_cython(A, b, None)\n",
    "\n",
    "\n",
    "print sol_1\n",
    "print sol_2"
   ]
  },
  {
   "cell_type": "code",
   "execution_count": 36,
   "metadata": {
    "collapsed": false
   },
   "outputs": [
    {
     "name": "stdout",
     "output_type": "stream",
     "text": [
      "[-14.60180408 -30.05077252 -44.78232317 -57.84794462 -67.91598417\n",
      " -73.27268435 -71.82332758 -61.09336081 -38.22939455]\n",
      "[-14.60180408 -30.05077252 -44.78232317 -57.84794462 -67.91598417\n",
      " -73.27268435 -71.82332758 -61.09336081 -38.22939455]\n"
     ]
    }
   ],
   "source": [
    "#SOR Solution Check\n",
    "\n",
    "sol_1 = SOR(A, b, None, 1.25)\n",
    "sol_2 = SOR_cython(A, b, None, 1.25)\n",
    "\n",
    "print sol_1\n",
    "print sol_2"
   ]
  },
  {
   "cell_type": "code",
   "execution_count": null,
   "metadata": {
    "collapsed": true
   },
   "outputs": [],
   "source": []
  }
 ],
 "metadata": {
  "kernelspec": {
   "display_name": "Python 2",
   "language": "python",
   "name": "python2"
  },
  "language_info": {
   "codemirror_mode": {
    "name": "ipython",
    "version": 2
   },
   "file_extension": ".py",
   "mimetype": "text/x-python",
   "name": "python",
   "nbconvert_exporter": "python",
   "pygments_lexer": "ipython2",
   "version": "2.7.10"
  }
 },
 "nbformat": 4,
 "nbformat_minor": 0
}
