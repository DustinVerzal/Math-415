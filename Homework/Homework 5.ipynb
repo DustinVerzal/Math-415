{
 "cells": [
  {
   "cell_type": "code",
   "execution_count": 73,
   "metadata": {
    "collapsed": true
   },
   "outputs": [],
   "source": [
    "import numpy as np\n",
    "import scipy\n",
    "from pprint import pprint\n",
    "from numpy import array, zeros, diag, diagflat, dot\n",
    "import time\n",
    "from matplotlib import pyplot as plt"
   ]
  },
  {
   "cell_type": "code",
   "execution_count": 2,
   "metadata": {
    "collapsed": true
   },
   "outputs": [],
   "source": [
    "def bmatrix(a):\n",
    "    \"\"\"Returns a LaTeX bmatrix\n",
    "\n",
    "    :a: numpy array\n",
    "    :returns: LaTeX bmatrix as a string\n",
    "    \"\"\"\n",
    "    if len(a.shape) > 2:\n",
    "        raise ValueError('bmatrix can at most display two dimensions')\n",
    "    lines = str(a).replace('[', '').replace(']', '').splitlines()\n",
    "    rv = [r'\\begin{bmatrix}']\n",
    "    rv += ['  ' + ' & '.join(l.split()) + r'\\\\' for l in lines]\n",
    "    rv +=  [r'\\end{bmatrix}']\n",
    "    return '\\n'.join(rv)"
   ]
  },
  {
   "cell_type": "code",
   "execution_count": 13,
   "metadata": {
    "collapsed": false
   },
   "outputs": [
    {
     "name": "stdout",
     "output_type": "stream",
     "text": [
      "matrix([[ 20.],\n",
      "        [ 39.],\n",
      "        [ 56.],\n",
      "        [ 70.],\n",
      "        [ 80.],\n",
      "        [ 85.],\n",
      "        [ 84.],\n",
      "        [ 76.],\n",
      "        [ 60.],\n",
      "        [ 35.]])\n"
     ]
    }
   ],
   "source": [
    "#Define array\n",
    "\n",
    "def symmetric_array_n(n):\n",
    "    \n",
    "    A = np.zeros((n, n))\n",
    "\n",
    "    for i in range(0, n):\n",
    "        for j in range(0, n):\n",
    "            if i == j:\n",
    "                A[i, j] = 2\n",
    "            if np.abs(i-j) == 1:\n",
    "                A[i, j] = -1\n",
    "\n",
    "    return A\n",
    "\n",
    "A = symmetric_array_n(10)\n",
    "b = np.matrix([1, 2, 3, 4, 5, 6, 7, 8, 9, 10]).transpose()\n",
    "X = np.linalg.lstsq(A, b)[0]\n",
    "\n",
    "pprint(X)"
   ]
  },
  {
   "cell_type": "code",
   "execution_count": 114,
   "metadata": {
    "collapsed": false
   },
   "outputs": [
    {
     "ename": "ValueError",
     "evalue": "shapes (9,9) and (10,) not aligned: 9 (dim 1) != 10 (dim 0)",
     "output_type": "error",
     "traceback": [
      "\u001b[1;31m---------------------------------------------------------------------------\u001b[0m",
      "\u001b[1;31mValueError\u001b[0m                                Traceback (most recent call last)",
      "\u001b[1;32m<ipython-input-114-649f4d6d4b6e>\u001b[0m in \u001b[0;36m<module>\u001b[1;34m()\u001b[0m\n\u001b[0;32m     21\u001b[0m \u001b[0mguess\u001b[0m \u001b[1;33m=\u001b[0m \u001b[0marray\u001b[0m\u001b[1;33m(\u001b[0m\u001b[1;33m[\u001b[0m\u001b[1;36m1.0\u001b[0m\u001b[1;33m,\u001b[0m\u001b[1;36m1.0\u001b[0m\u001b[1;33m,\u001b[0m \u001b[1;36m1.0\u001b[0m\u001b[1;33m,\u001b[0m \u001b[1;36m1.0\u001b[0m\u001b[1;33m,\u001b[0m \u001b[1;36m1.0\u001b[0m\u001b[1;33m,\u001b[0m \u001b[1;36m1.0\u001b[0m\u001b[1;33m,\u001b[0m \u001b[1;36m1.0\u001b[0m\u001b[1;33m,\u001b[0m \u001b[1;36m1.0\u001b[0m\u001b[1;33m,\u001b[0m \u001b[1;36m1.0\u001b[0m\u001b[1;33m,\u001b[0m \u001b[1;36m1.0\u001b[0m\u001b[1;33m]\u001b[0m\u001b[1;33m)\u001b[0m\u001b[1;33m\u001b[0m\u001b[0m\n\u001b[0;32m     22\u001b[0m \u001b[1;33m\u001b[0m\u001b[0m\n\u001b[1;32m---> 23\u001b[1;33m \u001b[0msol\u001b[0m\u001b[1;33m,\u001b[0m \u001b[0mduration\u001b[0m \u001b[1;33m=\u001b[0m \u001b[0mjacobi\u001b[0m\u001b[1;33m(\u001b[0m\u001b[0mA\u001b[0m\u001b[1;33m,\u001b[0m\u001b[0mb\u001b[0m\u001b[1;33m,\u001b[0m\u001b[0mN\u001b[0m\u001b[1;33m=\u001b[0m\u001b[1;36m1000\u001b[0m\u001b[1;33m,\u001b[0m\u001b[0mx\u001b[0m\u001b[1;33m=\u001b[0m\u001b[0mguess\u001b[0m\u001b[1;33m)\u001b[0m\u001b[1;33m\u001b[0m\u001b[0m\n\u001b[0m\u001b[0;32m     24\u001b[0m \u001b[1;33m\u001b[0m\u001b[0m\n\u001b[0;32m     25\u001b[0m \u001b[1;32mprint\u001b[0m \u001b[1;34m\"A:\"\u001b[0m\u001b[1;33m\u001b[0m\u001b[0m\n",
      "\u001b[1;32m<ipython-input-114-649f4d6d4b6e>\u001b[0m in \u001b[0;36mjacobi\u001b[1;34m(A, b, N, x)\u001b[0m\n\u001b[0;32m     13\u001b[0m     \u001b[1;31m# Iterate for N times\u001b[0m\u001b[1;33m\u001b[0m\u001b[1;33m\u001b[0m\u001b[0m\n\u001b[0;32m     14\u001b[0m     \u001b[1;32mfor\u001b[0m \u001b[0mi\u001b[0m \u001b[1;32min\u001b[0m \u001b[0mrange\u001b[0m\u001b[1;33m(\u001b[0m\u001b[0mN\u001b[0m\u001b[1;33m)\u001b[0m\u001b[1;33m:\u001b[0m\u001b[1;33m\u001b[0m\u001b[0m\n\u001b[1;32m---> 15\u001b[1;33m         \u001b[0mx\u001b[0m \u001b[1;33m=\u001b[0m \u001b[1;33m(\u001b[0m\u001b[0mb\u001b[0m \u001b[1;33m-\u001b[0m \u001b[0mdot\u001b[0m\u001b[1;33m(\u001b[0m\u001b[0mR\u001b[0m\u001b[1;33m,\u001b[0m\u001b[0mx\u001b[0m\u001b[1;33m)\u001b[0m\u001b[1;33m)\u001b[0m \u001b[1;33m/\u001b[0m \u001b[0mD\u001b[0m\u001b[1;33m\u001b[0m\u001b[0m\n\u001b[0m\u001b[0;32m     16\u001b[0m \u001b[1;33m\u001b[0m\u001b[0m\n\u001b[0;32m     17\u001b[0m     \u001b[0mstop\u001b[0m \u001b[1;33m=\u001b[0m \u001b[0mtime\u001b[0m\u001b[1;33m.\u001b[0m\u001b[0mtime\u001b[0m\u001b[1;33m(\u001b[0m\u001b[1;33m)\u001b[0m\u001b[1;33m\u001b[0m\u001b[0m\n",
      "\u001b[1;31mValueError\u001b[0m: shapes (9,9) and (10,) not aligned: 9 (dim 1) != 10 (dim 0)"
     ]
    }
   ],
   "source": [
    "def jacobi(A,b,N=25,x=None):\n",
    "    start = time.time()\n",
    "    \"\"\"Solves the equation Ax=b via the Jacobi iterative method.\"\"\"\n",
    "    # Create an initial guess if needed                                                                                                                                                            \n",
    "    if x is None:\n",
    "        x = zeros(len(A[0]))\n",
    "\n",
    "    # Create a vector of the diagonal elements of A                                                                                                                                                \n",
    "    # and subtract them from A                                                                                                                                                                     \n",
    "    D = diag(A)\n",
    "    R = A - diagflat(D)\n",
    "\n",
    "    # Iterate for N times                                                                                                                                                                          \n",
    "    for i in range(N):\n",
    "        x = (b - dot(R,x)) / D\n",
    "    \n",
    "    stop = time.time()\n",
    "    duration = stop - start\n",
    "    return x, duration\n",
    "    \n",
    "guess = array([1.0,1.0, 1.0, 1.0, 1.0, 1.0, 1.0, 1.0, 1.0, 1.0])\n",
    "\n",
    "sol, duration = jacobi(A,b,N=1000,x=guess)\n",
    "\n",
    "print \"A:\"\n",
    "pprint(A)\n",
    "\n",
    "print \"b:\"\n",
    "pprint(b)\n",
    "\n",
    "print \"x:\"\n",
    "pprint(sol)\n",
    "\n",
    "print \"Duration: \"\n",
    "print duration, \"s\""
   ]
  },
  {
   "cell_type": "code",
   "execution_count": 102,
   "metadata": {
    "collapsed": false
   },
   "outputs": [
    {
     "name": "stdout",
     "output_type": "stream",
     "text": [
      "Solution:\n",
      "[[15]\n",
      " [30]\n",
      " [44]\n",
      " [56]\n",
      " [65]\n",
      " [70]\n",
      " [70]\n",
      " [64]\n",
      " [51]\n",
      " [30]]\n"
     ]
    }
   ],
   "source": [
    "#Gauss Siedel\n",
    "ITERATION_LIMIT = 6000\n",
    "\n",
    "x = np.zeros_like(b)\n",
    "for it_count in range(ITERATION_LIMIT):\n",
    "    x_new = np.zeros_like(x)\n",
    "\n",
    "    for i in range(A.shape[0]):\n",
    "        s1 = np.dot(A[i, :i], x_new[:i])\n",
    "        s2 = np.dot(A[i, i + 1:], x[i + 1:])\n",
    "        x_new[i] = (b[i] - s1 - s2) / A[i, i]\n",
    "\n",
    "    if np.allclose(x, x_new, rtol=1e-8):\n",
    "        break\n",
    "\n",
    "    x = x_new\n",
    "\n",
    "print(\"Solution:\")\n",
    "print(x)\n",
    "error = np.dot(A, x) - b\n",
    "#print(\"Error:\")\n",
    "#print(error)"
   ]
  },
  {
   "cell_type": "code",
   "execution_count": 80,
   "metadata": {
    "collapsed": false
   },
   "outputs": [
    {
     "name": "stdout",
     "output_type": "stream",
     "text": [
      "Eigenvalues: \n",
      "array([ 3.91898595,  3.68250707,  3.30972147,  2.83083003,  2.28462968,\n",
      "        1.71537032,  0.08101405,  0.31749293,  0.69027853,  1.16916997])\n"
     ]
    }
   ],
   "source": [
    "eig = np.linalg.eig(A)[0]\n",
    "print \"Eigenvalues: \"\n",
    "pprint(eig)"
   ]
  },
  {
   "cell_type": "code",
   "execution_count": 91,
   "metadata": {
    "collapsed": false
   },
   "outputs": [],
   "source": [
    "#Two Point Boundary Value Problem\n",
    "\n",
    "x = np.arange(0, 1, .1)\n",
    "\n",
    "def f(x):\n",
    "    return -24*x**2\n",
    "\n",
    "plt.plot(x, f(x))\n",
    "plt.plot(0, 1, \"bo\")\n",
    "plt.plot(1, 0, \"bo\")\n",
    "plt.axes([0, 1, -100, 100])\n",
    "plt.show()"
   ]
  },
  {
   "cell_type": "code",
   "execution_count": 106,
   "metadata": {
    "collapsed": false
   },
   "outputs": [],
   "source": [
    "#III Continuous into Discrete\n",
    "N = 1000\n",
    "delta_x = 1.0/(N+1.0)\n",
    "\n",
    "x = np.zeros(N)\n",
    "for i in range(0, N):\n",
    "    x[i] = i*delta_x\n",
    "\n"
   ]
  },
  {
   "cell_type": "code",
   "execution_count": 117,
   "metadata": {
    "collapsed": false
   },
   "outputs": [],
   "source": [
    "# IVa.\n",
    "A = symmetric_array_n(9)\n",
    "b = x[:9]\n",
    "guess = np.zeros_like(b)\n",
    "sol, duration = jacobi(A, b, x=guess)"
   ]
  },
  {
   "cell_type": "code",
   "execution_count": 118,
   "metadata": {
    "collapsed": false
   },
   "outputs": [
    {
     "data": {
      "text/plain": [
       "array([ 0.00747109,  0.01536766,  0.02311619,  0.02998873,  0.0352573 ,\n",
       "        0.0379329 ,  0.03702651,  0.03127427,  0.01941232])"
      ]
     },
     "execution_count": 118,
     "metadata": {},
     "output_type": "execute_result"
    }
   ],
   "source": [
    "sol"
   ]
  },
  {
   "cell_type": "code",
   "execution_count": 110,
   "metadata": {
    "collapsed": false
   },
   "outputs": [],
   "source": []
  },
  {
   "cell_type": "code",
   "execution_count": null,
   "metadata": {
    "collapsed": true
   },
   "outputs": [],
   "source": []
  }
 ],
 "metadata": {
  "kernelspec": {
   "display_name": "Python 2",
   "language": "python",
   "name": "python2"
  },
  "language_info": {
   "codemirror_mode": {
    "name": "ipython",
    "version": 2
   },
   "file_extension": ".py",
   "mimetype": "text/x-python",
   "name": "python",
   "nbconvert_exporter": "python",
   "pygments_lexer": "ipython2",
   "version": "2.7.10"
  }
 },
 "nbformat": 4,
 "nbformat_minor": 0
}
