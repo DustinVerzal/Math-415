{
 "cells": [
  {
   "cell_type": "code",
   "execution_count": 37,
   "metadata": {
    "collapsed": false
   },
   "outputs": [
    {
     "data": {
      "text/latex": [
       "string"
      ],
      "text/plain": [
       "<IPython.core.display.Latex object>"
      ]
     },
     "metadata": {},
     "output_type": "display_data"
    }
   ],
   "source": [
    "%%latex\n",
    "string\n"
   ]
  },
  {
   "cell_type": "code",
   "execution_count": 1,
   "metadata": {
    "collapsed": true
   },
   "outputs": [],
   "source": [
    "import numpy as np"
   ]
  },
  {
   "cell_type": "code",
   "execution_count": 27,
   "metadata": {
    "collapsed": true
   },
   "outputs": [],
   "source": [
    "def bmatrix(a):\n",
    "    \"\"\"Returns a LaTeX bmatrix\n",
    "\n",
    "    :a: numpy array\n",
    "    :returns: LaTeX bmatrix as a string\n",
    "    \"\"\"\n",
    "    if len(a.shape) > 2:\n",
    "        raise ValueError('bmatrix can at most display two dimensions')\n",
    "    lines = str(a).replace('[', '').replace(']', '').splitlines()\n",
    "    rv = [r'\\begin{bmatrix}']\n",
    "    rv += ['  ' + ' & '.join(l.split()) + r'\\\\' for l in lines]\n",
    "    rv +=  [r'\\end{bmatrix}']\n",
    "    return '\\n'.join(rv)"
   ]
  },
  {
   "cell_type": "code",
   "execution_count": 19,
   "metadata": {
    "collapsed": false
   },
   "outputs": [],
   "source": [
    "#Define array\n",
    "\n",
    "def symmetric_array_n(n):\n",
    "    \n",
    "    A = np.zeros((n, n))\n",
    "\n",
    "    for i in range(0, n):\n",
    "        for j in range(0, n):\n",
    "            if i == j:\n",
    "                A[i, j] = 2\n",
    "            if np.abs(i-j) == 1:\n",
    "                A[i, j] = -1\n",
    "\n",
    "    return A"
   ]
  },
  {
   "cell_type": "code",
   "execution_count": 39,
   "metadata": {
    "collapsed": false
   },
   "outputs": [
    {
     "name": "stdout",
     "output_type": "stream",
     "text": [
      "\\begin{bmatrix}\n",
      "  2. & -1. & 0. & 0. & 0. & 0. & 0. & 0. & 0. & 0.\\\\\n",
      "  -1. & 2. & -1. & 0. & 0. & 0. & 0. & 0. & 0. & 0.\\\\\n",
      "  0. & -1. & 2. & -1. & 0. & 0. & 0. & 0. & 0. & 0.\\\\\n",
      "  0. & 0. & -1. & 2. & -1. & 0. & 0. & 0. & 0. & 0.\\\\\n",
      "  0. & 0. & 0. & -1. & 2. & -1. & 0. & 0. & 0. & 0.\\\\\n",
      "  0. & 0. & 0. & 0. & -1. & 2. & -1. & 0. & 0. & 0.\\\\\n",
      "  0. & 0. & 0. & 0. & 0. & -1. & 2. & -1. & 0. & 0.\\\\\n",
      "  0. & 0. & 0. & 0. & 0. & 0. & -1. & 2. & -1. & 0.\\\\\n",
      "  0. & 0. & 0. & 0. & 0. & 0. & 0. & -1. & 2. & -1.\\\\\n",
      "  0. & 0. & 0. & 0. & 0. & 0. & 0. & 0. & -1. & 2.\\\\\n",
      "\\end{bmatrix}\n"
     ]
    }
   ],
   "source": [
    "A = symmetric_array_n(10)\n",
    "b = np.matrix([1, 2, 3, 4, 5, 6, 7, 8, 9, 10]).transpose()\n",
    "X = np.linalg.lstsq(A, b)[0]\n",
    "\n",
    "print bmatrix(A)"
   ]
  },
  {
   "cell_type": "code",
   "execution_count": 42,
   "metadata": {
    "collapsed": false
   },
   "outputs": [
    {
     "data": {
      "text/latex": [
       "\n",
       "\\begin{bmatrix}\n",
       "  2. & -1. & 0. & 0. & 0. & 0. & 0. & 0. & 0. & 0.\\\\\n",
       "  -1. & 2. & -1. & 0. & 0. & 0. & 0. & 0. & 0. & 0.\\\\\n",
       "  0. & -1. & 2. & -1. & 0. & 0. & 0. & 0. & 0. & 0.\\\\\n",
       "  0. & 0. & -1. & 2. & -1. & 0. & 0. & 0. & 0. & 0.\\\\\n",
       "  0. & 0. & 0. & -1. & 2. & -1. & 0. & 0. & 0. & 0.\\\\\n",
       "  0. & 0. & 0. & 0. & -1. & 2. & -1. & 0. & 0. & 0.\\\\\n",
       "  0. & 0. & 0. & 0. & 0. & -1. & 2. & -1. & 0. & 0.\\\\\n",
       "  0. & 0. & 0. & 0. & 0. & 0. & -1. & 2. & -1. & 0.\\\\\n",
       "  0. & 0. & 0. & 0. & 0. & 0. & 0. & -1. & 2. & -1.\\\\\n",
       "  0. & 0. & 0. & 0. & 0. & 0. & 0. & 0. & -1. & 2.\\\\\n",
       "\\end{bmatrix}"
      ],
      "text/plain": [
       "<IPython.core.display.Latex object>"
      ]
     },
     "metadata": {},
     "output_type": "display_data"
    }
   ],
   "source": [
    "%%latex\n",
    "\n",
    "\\begin{bmatrix}\n",
    "  2. & -1. & 0. & 0. & 0. & 0. & 0. & 0. & 0. & 0.\\\\\n",
    "  -1. & 2. & -1. & 0. & 0. & 0. & 0. & 0. & 0. & 0.\\\\\n",
    "  0. & -1. & 2. & -1. & 0. & 0. & 0. & 0. & 0. & 0.\\\\\n",
    "  0. & 0. & -1. & 2. & -1. & 0. & 0. & 0. & 0. & 0.\\\\\n",
    "  0. & 0. & 0. & -1. & 2. & -1. & 0. & 0. & 0. & 0.\\\\\n",
    "  0. & 0. & 0. & 0. & -1. & 2. & -1. & 0. & 0. & 0.\\\\\n",
    "  0. & 0. & 0. & 0. & 0. & -1. & 2. & -1. & 0. & 0.\\\\\n",
    "  0. & 0. & 0. & 0. & 0. & 0. & -1. & 2. & -1. & 0.\\\\\n",
    "  0. & 0. & 0. & 0. & 0. & 0. & 0. & -1. & 2. & -1.\\\\\n",
    "  0. & 0. & 0. & 0. & 0. & 0. & 0. & 0. & -1. & 2.\\\\\n",
    "\\end{bmatrix}\n"
   ]
  },
  {
   "cell_type": "code",
   "execution_count": null,
   "metadata": {
    "collapsed": true
   },
   "outputs": [],
   "source": []
  }
 ],
 "metadata": {
  "kernelspec": {
   "display_name": "Python 2",
   "language": "python",
   "name": "python2"
  },
  "language_info": {
   "codemirror_mode": {
    "name": "ipython",
    "version": 2
   },
   "file_extension": ".py",
   "mimetype": "text/x-python",
   "name": "python",
   "nbconvert_exporter": "python",
   "pygments_lexer": "ipython2",
   "version": "2.7.10"
  }
 },
 "nbformat": 4,
 "nbformat_minor": 0
}
