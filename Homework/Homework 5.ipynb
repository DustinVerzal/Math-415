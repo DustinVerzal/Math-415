{
 "cells": [
  {
   "cell_type": "code",
   "execution_count": 26,
   "metadata": {
    "collapsed": false
   },
   "outputs": [],
   "source": [
    "%load_ext Cython"
   ]
  },
  {
   "cell_type": "code",
   "execution_count": 61,
   "metadata": {
    "collapsed": false
   },
   "outputs": [],
   "source": [
    "import numpy as np\n",
    "from scipy.sparse.linalg import cg\n",
    "from pprint import pprint\n",
    "from numpy import array, zeros, diag, diagflat, dot\n",
    "from numpy.linalg import inv\n",
    "import time\n",
    "from matplotlib import pyplot as plt\n",
    "from scipy.sparse import diags"
   ]
  },
  {
   "cell_type": "code",
   "execution_count": 68,
   "metadata": {
    "collapsed": false
   },
   "outputs": [],
   "source": [
    "def symmetric_array_n(n):\n",
    "    main_diag = np.linspace(2, 2, num=n, dtype=np.int8)\n",
    "    lowUp_diag = np.linspace(-1, -1, num = n-1, dtype=np.int8)\n",
    "    diagonals = [main_diag, lowUp_diag, lowUp_diag]\n",
    "    A = diags(diagonals, [0, -1, 1]).toarray()\n",
    "    return A"
   ]
  },
  {
   "cell_type": "code",
   "execution_count": 31,
   "metadata": {
    "collapsed": false
   },
   "outputs": [],
   "source": [
    "%%cython\n",
    "\n",
    "cimport numpy as np\n",
    "cimport cython\n",
    "import numpy as np\n",
    "\n",
    "@cython.boundscheck(False) # turn of bounds-checking for entire function\n",
    "\n",
    "def jacobi(np.ndarray[double, ndim=2] A, np.ndarray[double, ndim=1] b, np.ndarray[double, ndim=1]  P, double tol=1.0e-3, int max_iter=1000):\n",
    "\n",
    "    if P is None:\n",
    "        P = np.zeros(len(A[0]))\n",
    "        \n",
    "    cdef int N = len(b)\n",
    "    cdef np.ndarray x = np.zeros(len(A[0]))\n",
    "    cdef unsigned int k, i, j\n",
    "    cdef double val, err, relerr\n",
    "    \n",
    "    for k in range(0, max_iter):\n",
    "        for i in range(0, N):\n",
    "            val = 0\n",
    "            for j in range(0, N):                \n",
    "                if j <> i:\n",
    "                    val += - (A[i, j]*P[j])\n",
    "            x[i] = (val + b[i])/A[i, i]\n",
    "            \n",
    "        err = np.abs(np.linalg.norm(x - P))\n",
    "        relerr = err / np.abs((np.linalg.norm(x) + np.finfo(np.float).eps))\n",
    "        P = x.copy()\n",
    "        \n",
    "        if(err < tol or relerr < tol):\n",
    "            return x\n",
    "    return x"
   ]
  },
  {
   "cell_type": "code",
   "execution_count": 9,
   "metadata": {
    "collapsed": false
   },
   "outputs": [],
   "source": [
    "def gauss_seidel(A, b, P=None, tol=1.0e-3, max_iter=1000):\n",
    "    timer = time.time()\n",
    "    \n",
    "    if P is None:\n",
    "        P = np.zeros(len(A[0]))\n",
    "    \n",
    "    N = len(b)\n",
    "    x = np.zeros(len(A[0]))\n",
    "    \n",
    "    for k in range(0, max_iter):\n",
    "        for i in range(0, N):\n",
    "            val = 0\n",
    "            for j in range(0, N):                \n",
    "                if j < i:\n",
    "                    val += - (A[i, j]*x[j])\n",
    "                if j > i:\n",
    "                    val += - (A[i, j]*P[j])\n",
    "            x[i] = (val + b[i])/A[i, i]\n",
    "                \n",
    "        err = np.abs(np.linalg.norm(x - P))\n",
    "        relerr = err / np.abs((np.linalg.norm(x) + np.finfo(np.float).eps))\n",
    "        P = x.copy()\n",
    "        \n",
    "        if(err < tol or relerr < tol):\n",
    "            timer = time.time() - timer\n",
    "            return x, timer\n",
    "    timer = time.time() - timer\n",
    "    return x, timer"
   ]
  },
  {
   "cell_type": "code",
   "execution_count": 10,
   "metadata": {
    "collapsed": true
   },
   "outputs": [],
   "source": [
    "def SOR(A, b, P=None, w=None, tol=1.0e-3, max_iter=1000):\n",
    "    timer = time.time()\n",
    "    \n",
    "    if P is None:\n",
    "        P = np.zeros(len(A[0]))\n",
    "        \n",
    "    if w is None:\n",
    "        w = 1.0\n",
    "    \n",
    "    N = len(b)\n",
    "    x = np.zeros(len(A[0]))\n",
    "    \n",
    "    for k in range(0, max_iter):\n",
    "        for i in range(0, N):\n",
    "            val = 0\n",
    "            for j in range(0, N):                \n",
    "                if j < i:\n",
    "                    val += - (A[i, j]*x[j])\n",
    "                if j > i:\n",
    "                    val += - (A[i, j]*P[j])\n",
    "            x[i] = (1-w)*P[i] + w*(val + b[i])/A[i, i]\n",
    "                \n",
    "        err = np.abs(np.linalg.norm(x - P))\n",
    "        relerr = err / np.abs((np.linalg.norm(x) + np.finfo(np.float).eps))\n",
    "        P = x.copy()\n",
    "        \n",
    "        if(err < tol or relerr < tol):\n",
    "            timer = time.time() - timer\n",
    "            return x, timer\n",
    "    timer = time.time() - timer\n",
    "    return x, timer"
   ]
  },
  {
   "cell_type": "code",
   "execution_count": 11,
   "metadata": {
    "collapsed": true
   },
   "outputs": [],
   "source": [
    "def conjugate_gradient(A, b, x=None, max_iter=1000, tol=1.0e-3):\n",
    "    timer = time.time()\n",
    "    \n",
    "    if x is None:\n",
    "        x = np.matrix(np.zeros(len(A[0]))).transpose()\n",
    "        \n",
    "    r0 = b - np.dot(A, x)\n",
    "    p = r0\n",
    "\n",
    "#   Start iterations    \n",
    "    for i in xrange(max_iter):\n",
    "        a = float(np.dot(r0.T, r0)/np.dot(np.dot(p.T, A), p))\n",
    "        x = x + p*a\n",
    "        ri = r0 - np.dot(A*a, p)\n",
    "\n",
    "        if np.linalg.norm(ri) < tol:\n",
    "            timer = time.time() - timer\n",
    "            return x, timer\n",
    "        b = float(np.dot(ri.T, ri)/np.dot(r0.T, r0))\n",
    "        p = ri + b * p\n",
    "        r0 = ri\n",
    "    timer = time.time() - timer\n",
    "    return x, timer"
   ]
  },
  {
   "cell_type": "code",
   "execution_count": 15,
   "metadata": {
    "collapsed": true
   },
   "outputs": [],
   "source": [
    "#Two Point Boundary Value Problem\n",
    "def f(x):\n",
    "    return -24.0*x**2"
   ]
  },
  {
   "cell_type": "code",
   "execution_count": 12,
   "metadata": {
    "collapsed": false
   },
   "outputs": [
    {
     "name": "stdout",
     "output_type": "stream",
     "text": [
      "matrix([[ 20.],\n",
      "        [ 39.],\n",
      "        [ 56.],\n",
      "        [ 70.],\n",
      "        [ 80.],\n",
      "        [ 85.],\n",
      "        [ 84.],\n",
      "        [ 76.],\n",
      "        [ 60.],\n",
      "        [ 35.]])\n"
     ]
    }
   ],
   "source": [
    "A, duration = symmetric_array_n(10)\n",
    "b = np.matrix(array([1.0, 2.0, 3.0, 4.0, 5.0, 6.0, 7.0, 8.0, 9.0, 10.0])).transpose()\n",
    "X = np.linalg.lstsq(A, b)[0]\n",
    "\n",
    "pprint(X)"
   ]
  },
  {
   "cell_type": "code",
   "execution_count": null,
   "metadata": {
    "collapsed": false
   },
   "outputs": [],
   "source": [
    "eig = np.linalg.eig(A)[0]\n",
    "print \"Eigenvalues: \"\n",
    "pprint(eig)"
   ]
  },
  {
   "cell_type": "code",
   "execution_count": null,
   "metadata": {
    "collapsed": false
   },
   "outputs": [],
   "source": [
    "n = 999\n",
    "A, duration = symmetric_array_n(n)\n",
    "x = np.arange(1.0/(n+1), 1, 1.0/(n+1))\n",
    "b = np.matrix(np.array(f(x)*(-1.0/n+1)**2))\n",
    "b[0] = b[0] + 1\n",
    "b = b.transpose()\n",
    "\n",
    "ITERATIONS = 500\n",
    "\n",
    "# Jacobi\n",
    "sol, duration = jacobi(A,b,max_iter=ITERATIONS)\n",
    "\n",
    "print \"Jacobi:\"\n",
    "print \"x:\", sol\n",
    "print \"\"\n",
    "\n",
    "print \"Duration: \"\n",
    "print duration, \"s\"\n",
    "print \"\"\n",
    "\n",
    "\n",
    "# Gauss-Seidel\n",
    "sol, duration = gauss_seidel(A, b, max_iter=ITERATIONS)\n",
    "\n",
    "print \"Gauss-Seidel:\"\n",
    "print \"x:\", sol\n",
    "print \"\"\n",
    "\n",
    "print \"Duration: \"\n",
    "print duration, \"s\"\n",
    "print \"\"\n",
    "\n",
    "# SOR\n",
    "sol, duration = SOR(A, b, w = 1.25, max_iter=ITERATIONS)\n",
    "\n",
    "print \"SOR:\"\n",
    "print \"x:\", sol\n",
    "print \"\"\n",
    "\n",
    "print \"Duration: \"\n",
    "print duration, \"s\"\n",
    "print \"\"\n",
    "\n",
    "# Conjugate Gradient\n",
    "sol, duration = conjugate_gradient(A, b, max_iter=ITERATIONS)\n",
    "\n",
    "print \"Conjugate-Gradient:\"\n",
    "print \"x:\", sol\n",
    "print \"\"\n",
    "\n",
    "print \"Duration: \"\n",
    "print duration, \"s\"\n",
    "print \"\""
   ]
  },
  {
   "cell_type": "code",
   "execution_count": 73,
   "metadata": {
    "collapsed": false
   },
   "outputs": [
    {
     "name": "stdout",
     "output_type": "stream",
     "text": [
      "1 loops, best of 3: 2.12 s per loop\n"
     ]
    }
   ],
   "source": [
    "n = 999\n",
    "A = symmetric_array_n(n)\n",
    "x = np.arange(1.0/(n+1), 1, 1.0/(n+1))\n",
    "b = np.array(f(x)*(-1.0/n+1)**2)\n",
    "b[0] = b[0] + 1\n",
    "b = b.transpose()\n",
    "ITERATIONS = 1000\n",
    "\n",
    "%timeit sol = jacobi(A,b, None, max_iter=ITERATIONS)"
   ]
  },
  {
   "cell_type": "code",
   "execution_count": 71,
   "metadata": {
    "collapsed": false
   },
   "outputs": [
    {
     "data": {
      "text/plain": [
       "(999,)"
      ]
     },
     "execution_count": 71,
     "metadata": {},
     "output_type": "execute_result"
    }
   ],
   "source": [
    "b.shape"
   ]
  },
  {
   "cell_type": "code",
   "execution_count": null,
   "metadata": {
    "collapsed": true
   },
   "outputs": [],
   "source": []
  }
 ],
 "metadata": {
  "kernelspec": {
   "display_name": "Python 2",
   "language": "python",
   "name": "python2"
  },
  "language_info": {
   "codemirror_mode": {
    "name": "ipython",
    "version": 2
   },
   "file_extension": ".py",
   "mimetype": "text/x-python",
   "name": "python",
   "nbconvert_exporter": "python",
   "pygments_lexer": "ipython2",
   "version": "2.7.10"
  }
 },
 "nbformat": 4,
 "nbformat_minor": 0
}
